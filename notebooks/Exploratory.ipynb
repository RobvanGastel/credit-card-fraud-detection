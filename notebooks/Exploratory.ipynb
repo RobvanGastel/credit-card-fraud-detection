{
 "cells": [
  {
   "cell_type": "code",
   "execution_count": null,
   "metadata": {},
   "outputs": [],
   "source": [
    "import numpy as np\n",
    "import pandas as pd\n",
    "from matplotlib import pyplot as plt\n",
    "from numpy.polynomial.polynomial import polyfit"
   ]
  },
  {
   "cell_type": "code",
   "execution_count": null,
   "metadata": {},
   "outputs": [],
   "source": [
    "df = pd.read_csv('.././creditcard.csv', sep=',')\n",
    "df.head()"
   ]
  },
  {
   "cell_type": "code",
   "execution_count": null,
   "metadata": {},
   "outputs": [],
   "source": [
    "df.describe().T"
   ]
  },
  {
   "cell_type": "code",
   "execution_count": null,
   "metadata": {},
   "outputs": [],
   "source": [
    "fig = df.plot.scatter('Class', 'Amount', s=2)"
   ]
  },
  {
   "cell_type": "code",
   "execution_count": null,
   "metadata": {},
   "outputs": [],
   "source": [
    "df_fraud = df[ df['Class'] == 1 ]\n",
    "df_fraud.describe().T"
   ]
  },
  {
   "cell_type": "code",
   "execution_count": null,
   "metadata": {},
   "outputs": [],
   "source": [
    "df_clean = df[ df['Class'] == 0 ]\n",
    "df_clean.describe().T"
   ]
  },
  {
   "cell_type": "code",
   "execution_count": null,
   "metadata": {},
   "outputs": [],
   "source": [
    "for row in zip(df.columns, df_clean.mean(), df_fraud.mean()):\n",
    "    print(row)"
   ]
  },
  {
   "cell_type": "code",
   "execution_count": null,
   "metadata": {},
   "outputs": [],
   "source": [
    "fig = plt.figure(figsize=(16,10))\n",
    "ax1 = fig.add_subplot(111)\n",
    "ax1.scatter(df_clean['Time'], df_clean['Amount'], s=5, c='b', alpha=.4)\n",
    "ax1.scatter(df_fraud['Time'], df_fraud['Amount'], s=5, c='r', alpha=.4)\n",
    "fig.show()"
   ]
  },
  {
   "cell_type": "code",
   "execution_count": null,
   "metadata": {},
   "outputs": [],
   "source": [
    "x_col, y_col = 'V10', 'V2'\n",
    "\n",
    "fig = plt.figure(figsize=(16,10))\n",
    "ax1 = fig.add_subplot(111)\n",
    "\n",
    "ax1.scatter(df_clean[x_col], df_clean[y_col], s=5, c='b', alpha=.3, label='Clean')\n",
    "b, a = polyfit(df_clean[x_col], df_clean[y_col], 1)\n",
    "ax1.plot(df_clean[x_col], a * df_clean[x_col] + b, c='g', label='Clean fit')\n",
    "x, y = [df_clean[x_col].mean()], [df_fraud[y_col].mean()]\n",
    "ax1.plot(x, y, c='g', mec='black', ms=10, marker='o', label='Clean centroid')\n",
    "\n",
    "ax1.scatter(df_fraud[x_col], df_fraud[y_col], s=5, c='r', alpha=.3, label='Fraud')\n",
    "b, a = polyfit(df_fraud[x_col], df_fraud[y_col], 1)\n",
    "ax1.plot(df_fraud[x_col], a * df_fraud[x_col] + b, c='y', label='Fraud fit')\n",
    "x, y = [df_fraud[x_col].mean()], [df_fraud[y_col].mean()]\n",
    "ax1.plot(x, y, c='y', mec='black', ms=10, marker='o', label='Fraud centroid')\n",
    "\n",
    "fig.legend()\n",
    "fig.show()"
   ]
  },
  {
   "cell_type": "code",
   "execution_count": null,
   "metadata": {},
   "outputs": [],
   "source": []
  },
  {
   "cell_type": "code",
   "execution_count": null,
   "metadata": {},
   "outputs": [],
   "source": []
  }
 ],
 "metadata": {
  "kernelspec": {
   "display_name": "Python 3",
   "language": "python",
   "name": "python3"
  },
  "language_info": {
   "codemirror_mode": {
    "name": "ipython",
    "version": 3
   },
   "file_extension": ".py",
   "mimetype": "text/x-python",
   "name": "python",
   "nbconvert_exporter": "python",
   "pygments_lexer": "ipython3",
   "version": "3.7.3"
  }
 },
 "nbformat": 4,
 "nbformat_minor": 2
}
